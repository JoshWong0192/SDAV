{
 "cells": [
  {
   "cell_type": "markdown",
   "metadata": {},
   "source": [
    "<img src=\"http://www.cems.uwe.ac.uk/~pa-legg/images/uwe_banner.png\">\n",
    "\n",
    "# UFCFEL-15-3 Security Data Analytics and Visualisation\n",
    "# Portfolio Assignment 2: Machine Learning for Malware Analysis (2022)\n",
    "---\n",
    "\n",
    "The completion of this worksheet is worth a **maximum of 35 marks** towards your portfolio assignment for the UFCFEL-15-3 Security Data Analytics and Visualisation (SDAV) module.\n",
    "\n",
    "### Brief\n",
    "---\n",
    "\n",
    "In this task, you have been given a large sample of derived malware features that describe 14 different malware variants (2000 samples of each). The purpose of this task is to understand the underlying concepts of classification, and **your task will be to develop two classifiers that can classify malware varients**. The first part will focus on a small hand-made classifier using only 3 malware classes, to understand the principles of search space and minimisation of a function. The second part will focus on using off-the-shelf libraries to scale up the classification to all 14 classes of malware present in the dataset.\n",
    "\n",
    "### Assessment and Marking\n",
    "---\n",
    "\n",
    "For each question you will see the maximum number of marks you may be awarded for a complete answer in brackets.\n",
    "\n",
    "**Part 1: Developing a Classifier \"by hand\" - (Total Marks: 20)**\n",
    "\n",
    "* **Task 1:** Find the Centroid point of each of the three groups (3)\n",
    "* **Task 2:** Plot the centroids on a Scatter Plot against the train data colour-coded by group (3)\n",
    "* **Task 3:** For each item in test_data, measure the distance to each centroid point, assign membership to the group of minimum distance, and compare with the expected test data label to obtain a score of successful classifications (12)\n",
    "* **Task 4:** Provide a final accuracy score for the performance of your \"by hand\" classifier (2)\n",
    "\n",
    "**Part 2: Developing a large-scale ML classifier - (Total Marks: 15)**\n",
    "\n",
    "* **Task 5:** Scale the Input Features for further processing using the StandardScaler function (1)\n",
    "* **Task 6:** Obtain numerical labels for each class using the LabelEncoder function (1)\n",
    "* **(Advanced) Task 7:** Prepare the dataset for ML testing, using the Train-Test-Split function of sklearn (2)\n",
    "* **(Advanced) Task 8:** Use a Multi-Layer Perceptron (MLP) classifier to train a machine learning model, and obtain the accuracy score against your test data. (4)\n",
    "* **(Advanced) Task 9:** Use a Random Forest (RF) classifier to train a machine learning model, and obtain the accuracy score against your test data. (4)\n",
    "* **(Advanced) Task 10:** Show how ML parameters can improve the models to achieve a high accuracy score of over 80% (3)\n",
    "\n",
    "This assignment should be submitted as as PDF to your Blackboard portfolio submission as per the instructions in the assignment specification available on Blackboard. A copy of your work should also be provided via a UWE Gitlab repository, with an accessible link provided with your portfolio.\n",
    " \n",
    "### Contact\n",
    "---\n",
    "\n",
    "Questions about this assignment should be directed to your module leader (Phil.Legg@uwe.ac.uk). You can use the Blackboard Q&A feature to ask questions related to this module and this assignment, as well as the on-site teaching sessions.\n",
    "\n",
    "---"
   ]
  },
  {
   "cell_type": "code",
   "execution_count": 1,
   "metadata": {},
   "outputs": [
    {
     "name": "stdout",
     "output_type": "stream",
     "text": [
      "Requirement already satisfied: scikit-learn in /home/uwe/.local/lib/python3.8/site-packages (1.2.0)\n",
      "Requirement already satisfied: threadpoolctl>=2.0.0 in /home/uwe/.local/lib/python3.8/site-packages (from scikit-learn) (3.1.0)\n",
      "Requirement already satisfied: joblib>=1.1.1 in /home/uwe/.local/lib/python3.8/site-packages (from scikit-learn) (1.2.0)\n",
      "Requirement already satisfied: scipy>=1.3.2 in /usr/local/lib/python3.8/dist-packages (from scikit-learn) (1.7.1)\n",
      "Requirement already satisfied: numpy>=1.17.3 in /usr/local/lib/python3.8/dist-packages (from scikit-learn) (1.21.2)\n",
      "Note: you may need to restart the kernel to use updated packages.\n"
     ]
    }
   ],
   "source": [
    "import numpy as np\n",
    "import pandas as pd\n",
    "import matplotlib.pyplot as plt\n",
    "\n",
    "%pip install scikit-learn"
   ]
  },
  {
   "cell_type": "code",
   "execution_count": 2,
   "metadata": {
    "scrolled": true
   },
   "outputs": [
    {
     "data": {
      "text/html": [
       "<div>\n",
       "<style scoped>\n",
       "    .dataframe tbody tr th:only-of-type {\n",
       "        vertical-align: middle;\n",
       "    }\n",
       "\n",
       "    .dataframe tbody tr th {\n",
       "        vertical-align: top;\n",
       "    }\n",
       "\n",
       "    .dataframe thead th {\n",
       "        text-align: right;\n",
       "    }\n",
       "</style>\n",
       "<table border=\"1\" class=\"dataframe\">\n",
       "  <thead>\n",
       "    <tr style=\"text-align: right;\">\n",
       "      <th></th>\n",
       "      <th>0</th>\n",
       "      <th>1</th>\n",
       "      <th>2</th>\n",
       "      <th>3</th>\n",
       "      <th>4</th>\n",
       "      <th>5</th>\n",
       "      <th>6</th>\n",
       "      <th>7</th>\n",
       "      <th>8</th>\n",
       "      <th>9</th>\n",
       "      <th>...</th>\n",
       "      <th>246</th>\n",
       "      <th>247</th>\n",
       "      <th>248</th>\n",
       "      <th>249</th>\n",
       "      <th>250</th>\n",
       "      <th>251</th>\n",
       "      <th>252</th>\n",
       "      <th>253</th>\n",
       "      <th>254</th>\n",
       "      <th>255</th>\n",
       "    </tr>\n",
       "  </thead>\n",
       "  <tbody>\n",
       "    <tr>\n",
       "      <th>0</th>\n",
       "      <td>224862.0</td>\n",
       "      <td>15842.0</td>\n",
       "      <td>12985.0</td>\n",
       "      <td>7387.0</td>\n",
       "      <td>13132.0</td>\n",
       "      <td>5112.0</td>\n",
       "      <td>8661.0</td>\n",
       "      <td>7990.0</td>\n",
       "      <td>14978.0</td>\n",
       "      <td>5656.0</td>\n",
       "      <td>...</td>\n",
       "      <td>3714.0</td>\n",
       "      <td>2892.0</td>\n",
       "      <td>9344.0</td>\n",
       "      <td>2415.0</td>\n",
       "      <td>2742.0</td>\n",
       "      <td>3023.0</td>\n",
       "      <td>11949.0</td>\n",
       "      <td>3662.0</td>\n",
       "      <td>5552.0</td>\n",
       "      <td>77433.0</td>\n",
       "    </tr>\n",
       "    <tr>\n",
       "      <th>1</th>\n",
       "      <td>21802.0</td>\n",
       "      <td>2127.0</td>\n",
       "      <td>2076.0</td>\n",
       "      <td>2028.0</td>\n",
       "      <td>1871.0</td>\n",
       "      <td>1622.0</td>\n",
       "      <td>1939.0</td>\n",
       "      <td>1502.0</td>\n",
       "      <td>2133.0</td>\n",
       "      <td>1689.0</td>\n",
       "      <td>...</td>\n",
       "      <td>1664.0</td>\n",
       "      <td>1607.0</td>\n",
       "      <td>1788.0</td>\n",
       "      <td>1394.0</td>\n",
       "      <td>1327.0</td>\n",
       "      <td>1453.0</td>\n",
       "      <td>1785.0</td>\n",
       "      <td>1559.0</td>\n",
       "      <td>1755.0</td>\n",
       "      <td>4882.0</td>\n",
       "    </tr>\n",
       "    <tr>\n",
       "      <th>2</th>\n",
       "      <td>24407.0</td>\n",
       "      <td>11682.0</td>\n",
       "      <td>7189.0</td>\n",
       "      <td>6538.0</td>\n",
       "      <td>7687.0</td>\n",
       "      <td>6848.0</td>\n",
       "      <td>4974.0</td>\n",
       "      <td>5377.0</td>\n",
       "      <td>7049.0</td>\n",
       "      <td>11642.0</td>\n",
       "      <td>...</td>\n",
       "      <td>5795.0</td>\n",
       "      <td>6053.0</td>\n",
       "      <td>6426.0</td>\n",
       "      <td>5435.0</td>\n",
       "      <td>4961.0</td>\n",
       "      <td>5026.0</td>\n",
       "      <td>5376.0</td>\n",
       "      <td>4180.0</td>\n",
       "      <td>5685.0</td>\n",
       "      <td>5775.0</td>\n",
       "    </tr>\n",
       "    <tr>\n",
       "      <th>3</th>\n",
       "      <td>7132.0</td>\n",
       "      <td>461.0</td>\n",
       "      <td>647.0</td>\n",
       "      <td>371.0</td>\n",
       "      <td>581.0</td>\n",
       "      <td>269.0</td>\n",
       "      <td>646.0</td>\n",
       "      <td>262.0</td>\n",
       "      <td>243.0</td>\n",
       "      <td>165.0</td>\n",
       "      <td>...</td>\n",
       "      <td>151.0</td>\n",
       "      <td>276.0</td>\n",
       "      <td>299.0</td>\n",
       "      <td>294.0</td>\n",
       "      <td>294.0</td>\n",
       "      <td>354.0</td>\n",
       "      <td>506.0</td>\n",
       "      <td>569.0</td>\n",
       "      <td>940.0</td>\n",
       "      <td>1516.0</td>\n",
       "    </tr>\n",
       "    <tr>\n",
       "      <th>4</th>\n",
       "      <td>5321.0</td>\n",
       "      <td>1108.0</td>\n",
       "      <td>985.0</td>\n",
       "      <td>955.0</td>\n",
       "      <td>958.0</td>\n",
       "      <td>890.0</td>\n",
       "      <td>971.0</td>\n",
       "      <td>919.0</td>\n",
       "      <td>945.0</td>\n",
       "      <td>963.0</td>\n",
       "      <td>...</td>\n",
       "      <td>933.0</td>\n",
       "      <td>975.0</td>\n",
       "      <td>945.0</td>\n",
       "      <td>924.0</td>\n",
       "      <td>879.0</td>\n",
       "      <td>952.0</td>\n",
       "      <td>956.0</td>\n",
       "      <td>900.0</td>\n",
       "      <td>942.0</td>\n",
       "      <td>1559.0</td>\n",
       "    </tr>\n",
       "    <tr>\n",
       "      <th>...</th>\n",
       "      <td>...</td>\n",
       "      <td>...</td>\n",
       "      <td>...</td>\n",
       "      <td>...</td>\n",
       "      <td>...</td>\n",
       "      <td>...</td>\n",
       "      <td>...</td>\n",
       "      <td>...</td>\n",
       "      <td>...</td>\n",
       "      <td>...</td>\n",
       "      <td>...</td>\n",
       "      <td>...</td>\n",
       "      <td>...</td>\n",
       "      <td>...</td>\n",
       "      <td>...</td>\n",
       "      <td>...</td>\n",
       "      <td>...</td>\n",
       "      <td>...</td>\n",
       "      <td>...</td>\n",
       "      <td>...</td>\n",
       "      <td>...</td>\n",
       "    </tr>\n",
       "    <tr>\n",
       "      <th>27995</th>\n",
       "      <td>23849.0</td>\n",
       "      <td>1489.0</td>\n",
       "      <td>1573.0</td>\n",
       "      <td>2649.0</td>\n",
       "      <td>1560.0</td>\n",
       "      <td>1025.0</td>\n",
       "      <td>922.0</td>\n",
       "      <td>1020.0</td>\n",
       "      <td>1042.0</td>\n",
       "      <td>938.0</td>\n",
       "      <td>...</td>\n",
       "      <td>993.0</td>\n",
       "      <td>968.0</td>\n",
       "      <td>1165.0</td>\n",
       "      <td>1041.0</td>\n",
       "      <td>1258.0</td>\n",
       "      <td>1753.0</td>\n",
       "      <td>1203.0</td>\n",
       "      <td>958.0</td>\n",
       "      <td>1315.0</td>\n",
       "      <td>4342.0</td>\n",
       "    </tr>\n",
       "    <tr>\n",
       "      <th>27996</th>\n",
       "      <td>9267.0</td>\n",
       "      <td>1056.0</td>\n",
       "      <td>981.0</td>\n",
       "      <td>930.0</td>\n",
       "      <td>1573.0</td>\n",
       "      <td>819.0</td>\n",
       "      <td>879.0</td>\n",
       "      <td>1064.0</td>\n",
       "      <td>1029.0</td>\n",
       "      <td>893.0</td>\n",
       "      <td>...</td>\n",
       "      <td>998.0</td>\n",
       "      <td>911.0</td>\n",
       "      <td>990.0</td>\n",
       "      <td>1039.0</td>\n",
       "      <td>930.0</td>\n",
       "      <td>833.0</td>\n",
       "      <td>904.0</td>\n",
       "      <td>891.0</td>\n",
       "      <td>976.0</td>\n",
       "      <td>2683.0</td>\n",
       "    </tr>\n",
       "    <tr>\n",
       "      <th>27997</th>\n",
       "      <td>25357.0</td>\n",
       "      <td>874.0</td>\n",
       "      <td>1008.0</td>\n",
       "      <td>2781.0</td>\n",
       "      <td>1518.0</td>\n",
       "      <td>939.0</td>\n",
       "      <td>4267.0</td>\n",
       "      <td>968.0</td>\n",
       "      <td>1103.0</td>\n",
       "      <td>1032.0</td>\n",
       "      <td>...</td>\n",
       "      <td>563.0</td>\n",
       "      <td>557.0</td>\n",
       "      <td>974.0</td>\n",
       "      <td>706.0</td>\n",
       "      <td>514.0</td>\n",
       "      <td>632.0</td>\n",
       "      <td>657.0</td>\n",
       "      <td>584.0</td>\n",
       "      <td>535.0</td>\n",
       "      <td>2431.0</td>\n",
       "    </tr>\n",
       "    <tr>\n",
       "      <th>27998</th>\n",
       "      <td>29010.0</td>\n",
       "      <td>6476.0</td>\n",
       "      <td>2969.0</td>\n",
       "      <td>5358.0</td>\n",
       "      <td>2827.0</td>\n",
       "      <td>4598.0</td>\n",
       "      <td>2172.0</td>\n",
       "      <td>4045.0</td>\n",
       "      <td>2496.0</td>\n",
       "      <td>3718.0</td>\n",
       "      <td>...</td>\n",
       "      <td>217.0</td>\n",
       "      <td>146.0</td>\n",
       "      <td>544.0</td>\n",
       "      <td>232.0</td>\n",
       "      <td>95.0</td>\n",
       "      <td>140.0</td>\n",
       "      <td>294.0</td>\n",
       "      <td>163.0</td>\n",
       "      <td>182.0</td>\n",
       "      <td>4005.0</td>\n",
       "    </tr>\n",
       "    <tr>\n",
       "      <th>27999</th>\n",
       "      <td>4956.0</td>\n",
       "      <td>185.0</td>\n",
       "      <td>74.0</td>\n",
       "      <td>92.0</td>\n",
       "      <td>133.0</td>\n",
       "      <td>94.0</td>\n",
       "      <td>56.0</td>\n",
       "      <td>46.0</td>\n",
       "      <td>145.0</td>\n",
       "      <td>93.0</td>\n",
       "      <td>...</td>\n",
       "      <td>50.0</td>\n",
       "      <td>61.0</td>\n",
       "      <td>810.0</td>\n",
       "      <td>1109.0</td>\n",
       "      <td>109.0</td>\n",
       "      <td>62.0</td>\n",
       "      <td>209.0</td>\n",
       "      <td>112.0</td>\n",
       "      <td>84.0</td>\n",
       "      <td>992.0</td>\n",
       "    </tr>\n",
       "  </tbody>\n",
       "</table>\n",
       "<p>28000 rows × 256 columns</p>\n",
       "</div>"
      ],
      "text/plain": [
       "            0        1        2       3        4       5       6       7    \\\n",
       "0      224862.0  15842.0  12985.0  7387.0  13132.0  5112.0  8661.0  7990.0   \n",
       "1       21802.0   2127.0   2076.0  2028.0   1871.0  1622.0  1939.0  1502.0   \n",
       "2       24407.0  11682.0   7189.0  6538.0   7687.0  6848.0  4974.0  5377.0   \n",
       "3        7132.0    461.0    647.0   371.0    581.0   269.0   646.0   262.0   \n",
       "4        5321.0   1108.0    985.0   955.0    958.0   890.0   971.0   919.0   \n",
       "...         ...      ...      ...     ...      ...     ...     ...     ...   \n",
       "27995   23849.0   1489.0   1573.0  2649.0   1560.0  1025.0   922.0  1020.0   \n",
       "27996    9267.0   1056.0    981.0   930.0   1573.0   819.0   879.0  1064.0   \n",
       "27997   25357.0    874.0   1008.0  2781.0   1518.0   939.0  4267.0   968.0   \n",
       "27998   29010.0   6476.0   2969.0  5358.0   2827.0  4598.0  2172.0  4045.0   \n",
       "27999    4956.0    185.0     74.0    92.0    133.0    94.0    56.0    46.0   \n",
       "\n",
       "           8        9    ...     246     247     248     249     250     251  \\\n",
       "0      14978.0   5656.0  ...  3714.0  2892.0  9344.0  2415.0  2742.0  3023.0   \n",
       "1       2133.0   1689.0  ...  1664.0  1607.0  1788.0  1394.0  1327.0  1453.0   \n",
       "2       7049.0  11642.0  ...  5795.0  6053.0  6426.0  5435.0  4961.0  5026.0   \n",
       "3        243.0    165.0  ...   151.0   276.0   299.0   294.0   294.0   354.0   \n",
       "4        945.0    963.0  ...   933.0   975.0   945.0   924.0   879.0   952.0   \n",
       "...        ...      ...  ...     ...     ...     ...     ...     ...     ...   \n",
       "27995   1042.0    938.0  ...   993.0   968.0  1165.0  1041.0  1258.0  1753.0   \n",
       "27996   1029.0    893.0  ...   998.0   911.0   990.0  1039.0   930.0   833.0   \n",
       "27997   1103.0   1032.0  ...   563.0   557.0   974.0   706.0   514.0   632.0   \n",
       "27998   2496.0   3718.0  ...   217.0   146.0   544.0   232.0    95.0   140.0   \n",
       "27999    145.0     93.0  ...    50.0    61.0   810.0  1109.0   109.0    62.0   \n",
       "\n",
       "           252     253     254      255  \n",
       "0      11949.0  3662.0  5552.0  77433.0  \n",
       "1       1785.0  1559.0  1755.0   4882.0  \n",
       "2       5376.0  4180.0  5685.0   5775.0  \n",
       "3        506.0   569.0   940.0   1516.0  \n",
       "4        956.0   900.0   942.0   1559.0  \n",
       "...        ...     ...     ...      ...  \n",
       "27995   1203.0   958.0  1315.0   4342.0  \n",
       "27996    904.0   891.0   976.0   2683.0  \n",
       "27997    657.0   584.0   535.0   2431.0  \n",
       "27998    294.0   163.0   182.0   4005.0  \n",
       "27999    209.0   112.0    84.0    992.0  \n",
       "\n",
       "[28000 rows x 256 columns]"
      ]
     },
     "execution_count": 2,
     "metadata": {},
     "output_type": "execute_result"
    }
   ],
   "source": [
    "features = pd.read_csv('./T2_data/malware_data.csv', header=None)\n",
    "features"
   ]
  },
  {
   "cell_type": "code",
   "execution_count": 3,
   "metadata": {
    "scrolled": true
   },
   "outputs": [
    {
     "data": {
      "text/html": [
       "<div>\n",
       "<style scoped>\n",
       "    .dataframe tbody tr th:only-of-type {\n",
       "        vertical-align: middle;\n",
       "    }\n",
       "\n",
       "    .dataframe tbody tr th {\n",
       "        vertical-align: top;\n",
       "    }\n",
       "\n",
       "    .dataframe thead th {\n",
       "        text-align: right;\n",
       "    }\n",
       "</style>\n",
       "<table border=\"1\" class=\"dataframe\">\n",
       "  <thead>\n",
       "    <tr style=\"text-align: right;\">\n",
       "      <th></th>\n",
       "      <th>label</th>\n",
       "    </tr>\n",
       "  </thead>\n",
       "  <tbody>\n",
       "    <tr>\n",
       "      <th>0</th>\n",
       "      <td>high</td>\n",
       "    </tr>\n",
       "    <tr>\n",
       "      <th>1</th>\n",
       "      <td>high</td>\n",
       "    </tr>\n",
       "    <tr>\n",
       "      <th>2</th>\n",
       "      <td>high</td>\n",
       "    </tr>\n",
       "    <tr>\n",
       "      <th>3</th>\n",
       "      <td>high</td>\n",
       "    </tr>\n",
       "    <tr>\n",
       "      <th>4</th>\n",
       "      <td>high</td>\n",
       "    </tr>\n",
       "    <tr>\n",
       "      <th>...</th>\n",
       "      <td>...</td>\n",
       "    </tr>\n",
       "    <tr>\n",
       "      <th>27995</th>\n",
       "      <td>zbot</td>\n",
       "    </tr>\n",
       "    <tr>\n",
       "      <th>27996</th>\n",
       "      <td>zbot</td>\n",
       "    </tr>\n",
       "    <tr>\n",
       "      <th>27997</th>\n",
       "      <td>zbot</td>\n",
       "    </tr>\n",
       "    <tr>\n",
       "      <th>27998</th>\n",
       "      <td>zbot</td>\n",
       "    </tr>\n",
       "    <tr>\n",
       "      <th>27999</th>\n",
       "      <td>zbot</td>\n",
       "    </tr>\n",
       "  </tbody>\n",
       "</table>\n",
       "<p>28000 rows × 1 columns</p>\n",
       "</div>"
      ],
      "text/plain": [
       "      label\n",
       "0      high\n",
       "1      high\n",
       "2      high\n",
       "3      high\n",
       "4      high\n",
       "...     ...\n",
       "27995  zbot\n",
       "27996  zbot\n",
       "27997  zbot\n",
       "27998  zbot\n",
       "27999  zbot\n",
       "\n",
       "[28000 rows x 1 columns]"
      ]
     },
     "execution_count": 3,
     "metadata": {},
     "output_type": "execute_result"
    }
   ],
   "source": [
    "labels = pd.read_csv('./T2_data/malware_label.csv', header=None)\n",
    "labels = labels.drop(0, axis=1)\n",
    "labels = labels.rename(columns = {1:'label'})\n",
    "labels"
   ]
  },
  {
   "cell_type": "markdown",
   "metadata": {},
   "source": [
    "In the cells above, we have created two DataFrames: ***features*** and ***labels***.\n",
    "\n",
    "***Features***: This table contains 28000 instances of malware, where each instance of malware is characterised by 256 distinct features relating to how it performs and its impact on the associated systems.\n",
    "\n",
    "***Labels***: This table contains 28000 rows, where each row is the label of the malware class, related to the features table. There are 2000 samples of each malware varient, and 14 varients in total."
   ]
  },
  {
   "cell_type": "markdown",
   "metadata": {},
   "source": [
    "## Part 1: Developing a Classifier \"by hand\""
   ]
  },
  {
   "cell_type": "code",
   "execution_count": 4,
   "metadata": {
    "scrolled": true
   },
   "outputs": [
    {
     "data": {
      "text/html": [
       "<div>\n",
       "<style scoped>\n",
       "    .dataframe tbody tr th:only-of-type {\n",
       "        vertical-align: middle;\n",
       "    }\n",
       "\n",
       "    .dataframe tbody tr th {\n",
       "        vertical-align: top;\n",
       "    }\n",
       "\n",
       "    .dataframe thead th {\n",
       "        text-align: right;\n",
       "    }\n",
       "</style>\n",
       "<table border=\"1\" class=\"dataframe\">\n",
       "  <thead>\n",
       "    <tr style=\"text-align: right;\">\n",
       "      <th></th>\n",
       "      <th>x</th>\n",
       "      <th>y</th>\n",
       "      <th>labels</th>\n",
       "    </tr>\n",
       "  </thead>\n",
       "  <tbody>\n",
       "    <tr>\n",
       "      <th>0</th>\n",
       "      <td>3114896.0</td>\n",
       "      <td>10815.0</td>\n",
       "      <td>wannacry</td>\n",
       "    </tr>\n",
       "    <tr>\n",
       "      <th>1</th>\n",
       "      <td>3436940.0</td>\n",
       "      <td>9551.0</td>\n",
       "      <td>wannacry</td>\n",
       "    </tr>\n",
       "    <tr>\n",
       "      <th>2</th>\n",
       "      <td>1812649.0</td>\n",
       "      <td>15343.0</td>\n",
       "      <td>wannacry</td>\n",
       "    </tr>\n",
       "    <tr>\n",
       "      <th>3</th>\n",
       "      <td>3067845.0</td>\n",
       "      <td>10541.0</td>\n",
       "      <td>wannacry</td>\n",
       "    </tr>\n",
       "    <tr>\n",
       "      <th>4</th>\n",
       "      <td>51591.0</td>\n",
       "      <td>21367.0</td>\n",
       "      <td>wannacry</td>\n",
       "    </tr>\n",
       "    <tr>\n",
       "      <th>...</th>\n",
       "      <td>...</td>\n",
       "      <td>...</td>\n",
       "      <td>...</td>\n",
       "    </tr>\n",
       "    <tr>\n",
       "      <th>145</th>\n",
       "      <td>78591.0</td>\n",
       "      <td>7734.0</td>\n",
       "      <td>razy</td>\n",
       "    </tr>\n",
       "    <tr>\n",
       "      <th>146</th>\n",
       "      <td>80429.0</td>\n",
       "      <td>5114.0</td>\n",
       "      <td>razy</td>\n",
       "    </tr>\n",
       "    <tr>\n",
       "      <th>147</th>\n",
       "      <td>2898.0</td>\n",
       "      <td>98.0</td>\n",
       "      <td>razy</td>\n",
       "    </tr>\n",
       "    <tr>\n",
       "      <th>148</th>\n",
       "      <td>183376.0</td>\n",
       "      <td>8477.0</td>\n",
       "      <td>razy</td>\n",
       "    </tr>\n",
       "    <tr>\n",
       "      <th>149</th>\n",
       "      <td>11580.0</td>\n",
       "      <td>5921.0</td>\n",
       "      <td>razy</td>\n",
       "    </tr>\n",
       "  </tbody>\n",
       "</table>\n",
       "<p>150 rows × 3 columns</p>\n",
       "</div>"
      ],
      "text/plain": [
       "             x        y    labels\n",
       "0    3114896.0  10815.0  wannacry\n",
       "1    3436940.0   9551.0  wannacry\n",
       "2    1812649.0  15343.0  wannacry\n",
       "3    3067845.0  10541.0  wannacry\n",
       "4      51591.0  21367.0  wannacry\n",
       "..         ...      ...       ...\n",
       "145    78591.0   7734.0      razy\n",
       "146    80429.0   5114.0      razy\n",
       "147     2898.0     98.0      razy\n",
       "148   183376.0   8477.0      razy\n",
       "149    11580.0   5921.0      razy\n",
       "\n",
       "[150 rows x 3 columns]"
      ]
     },
     "execution_count": 4,
     "metadata": {},
     "output_type": "execute_result"
    }
   ],
   "source": [
    "\n",
    "# DO NOT MODIFY THIS CELL - this cell is splitting the data to provide a suitable subset of data to work with for this task.\n",
    "# If you change this cell your output will differ from that expected and could impact your mark.\n",
    "\n",
    "\n",
    "mal1_index = 17000\n",
    "mal2_index = 21000\n",
    "mal3_index = 12000\n",
    "mal_range = 50\n",
    "mal_test_range = 30\n",
    "\n",
    "train_data = np.vstack([ features[mal1_index:mal1_index+mal_range][[0,1]].values, features[mal2_index:mal2_index+mal_range][[0,1]].values, features[mal3_index:mal3_index+mal_range][[0,1]].values ])\n",
    "train_data = pd.DataFrame(train_data)\n",
    "train_labels = np.vstack([ labels[mal1_index:mal1_index+mal_range].values, labels[mal2_index:mal2_index+mal_range].values, labels[mal3_index:mal3_index+mal_range].values ])\n",
    "train_labels = pd.DataFrame(train_labels)\n",
    "train_data['labels'] = train_labels\n",
    "train_data = train_data.rename(columns={0:'x', 1:'y'})\n",
    "\n",
    "test_data = np.vstack([ features[mal1_index+mal_range:mal1_index+mal_range+mal_test_range][[0,1]].values, features[mal2_index+mal_range:mal2_index+mal_range+mal_test_range][[0,1]].values, features[mal3_index+mal_range:mal3_index+mal_range+mal_test_range][[0,1]].values ])\n",
    "test_data = pd.DataFrame(test_data)\n",
    "test_labels = np.vstack([ labels[mal1_index+mal_range:mal1_index+mal_range+mal_test_range].values, labels[mal2_index+mal_range:mal2_index+mal_range+mal_test_range].values, labels[mal3_index+mal_range:mal3_index+mal_range+mal_test_range].values ])\n",
    "test_labels = pd.DataFrame(test_labels)\n",
    "test_data['labels'] = test_labels\n",
    "test_data = test_data.rename(columns={0:'x', 1:'y'})\n",
    "\n",
    "train_data"
   ]
  },
  {
   "cell_type": "code",
   "execution_count": 5,
   "metadata": {
    "scrolled": false
   },
   "outputs": [
    {
     "data": {
      "text/plain": [
       "Text(0, 0.5, 'Feature Y')"
      ]
     },
     "execution_count": 5,
     "metadata": {},
     "output_type": "execute_result"
    },
    {
     "data": {
      "image/png": "[encoded data removed]",
      "text/plain": [
       "<Figure size 432x288 with 1 Axes>"
      ]
     },
     "metadata": {
      "needs_background": "light"
     },
     "output_type": "display_data"
    }
   ],
   "source": [
    "plt.scatter(train_data['x'], train_data['y'])\n",
    "plt.xlabel('Feature X')\n",
    "plt.ylabel('Feature Y')"
   ]
  },
  {
   "cell_type": "markdown",
   "metadata": {},
   "source": [
    "### Task 1: Find the Centroid point of each of the three groups (3)"
   ]
  },
  {
   "cell_type": "code",
   "execution_count": 6,
   "metadata": {
    "scrolled": true
   },
   "outputs": [
    {
     "name": "stdout",
     "output_type": "stream",
     "text": [
      "wannacry:x 2181660.66 wannacry:y 11087.1\n",
      "startsurf:x 478778.12 startsurf:y 3754.04\n",
      "razy:x 100505.22 razy:y 6158.28\n"
     ]
    }
   ],
   "source": [
    "\n",
    "train_data_w = train_data[train_data[\"labels\"] == 'wannacry']\n",
    "train_data_s = train_data[train_data[\"labels\"] == 'startsurf']\n",
    "train_data_r = train_data[train_data[\"labels\"] == 'razy']\n",
    "\n",
    "\n",
    "train_data_w.x.mean = train_data_w['x'].mean()\n",
    "train_data_w.y.mean = train_data_w['y'].mean()\n",
    "train_data_s.x.mean = train_data_s['x'].mean()\n",
    "train_data_s.y.mean = train_data_s['y'].mean()\n",
    "train_data_r.x.mean = train_data_r['x'].mean()\n",
    "train_data_r.y.mean = train_data_r['y'].mean()\n",
    "\n",
    "print(\"wannacry:x\",train_data_w.x.mean, \"wannacry:y\",train_data_w.y.mean)\n",
    "print(\"startsurf:x\",train_data_s.x.mean, \"startsurf:y\",train_data_s.y.mean)\n",
    "print(\"razy:x\",train_data_r.x.mean, \"razy:y\",train_data_r.y.mean)"
   ]
  },
  {
   "cell_type": "markdown",
   "metadata": {},
   "source": [
    "### Task 2: Plot the centroids on a Scatter Plot against the train data colour-coded by group (3)"
   ]
  },
  {
   "cell_type": "code",
   "execution_count": 29,
   "metadata": {},
   "outputs": [
    {
     "data": {
      "text/plain": [
       "<matplotlib.legend.Legend at 0x7f2e4564b520>"
      ]
     },
     "execution_count": 29,
     "metadata": {},
     "output_type": "execute_result"
    },
    {
     "data": {
      "image/png": "[encoded data removed]",
      "text/plain": [
       "<Figure size 720x432 with 1 Axes>"
      ]
     },
     "metadata": {
      "needs_background": "light"
     },
     "output_type": "display_data"
    }
   ],
   "source": [
    "# ANSWER\n",
    "train_data_w = train_data[train_data[\"labels\"] == 'wannacry']\n",
    "train_data_s = train_data[train_data[\"labels\"] == 'startsurf']\n",
    "train_data_r = train_data[train_data[\"labels\"] == 'razy']\n",
    "\n",
    "\n",
    "train_data_w.x.mean = train_data_w['x'].mean()\n",
    "train_data_w.y.mean = train_data_w['y'].mean()\n",
    "train_data_s.x.mean = train_data_s['x'].mean()\n",
    "train_data_s.y.mean = train_data_s['y'].mean()\n",
    "train_data_r.x.mean = train_data_r['x'].mean()\n",
    "train_data_r.y.mean = train_data_r['y'].mean()\n",
    "\n",
    "plt.figure(figsize=(10,6))\n",
    "\n",
    "plt.scatter(train_data_w['x'],train_data_w['y'], color = 'red', label='wannacry')\n",
    "plt.scatter(train_data_s['x'],train_data_s['y'], color = 'green', label='startsurf')\n",
    "plt.scatter(train_data_r['x'],train_data_r['y'], color = 'blue', label='razy')\n",
    "\n",
    "plt.scatter(train_data_w.x.mean, train_data_w.y.mean, color = 'purple',s=500, marker = '*', label='wannacry centroid') #Plot the wannacry's centroid\n",
    "plt.scatter(train_data_s.x.mean, train_data_s.y.mean, color = 'black', s=500, marker = '*', label='startsurf centroid')\n",
    "plt.scatter(train_data_r.x.mean, train_data_r.y.mean, color = 'orange', s=500, marker = '*', label='razy centroid')\n",
    "\n",
    "\n",
    "plt.legend()"
   ]
  },
  {
   "cell_type": "markdown",
   "metadata": {},
   "source": [
    "### Task 3: For each item in test_data, measure the distance to each centroid point, assign membership to the group of minimum distance, and compare with the expected test data label to obtain a score of successful classifications (12)\n",
    "\n",
    "*Hint: You may find the clustering activity worksheet helpful for how to approach this task*"
   ]
  },
  {
   "cell_type": "code",
   "execution_count": 26,
   "metadata": {
    "scrolled": false
   },
   "outputs": [
    {
     "data": {
      "text/plain": [
       "<matplotlib.legend.Legend at 0x7f2e45830a60>"
      ]
     },
     "execution_count": 26,
     "metadata": {},
     "output_type": "execute_result"
    },
    {
     "data": {
      "image/png": "[encoded data removed]",
      "text/plain": [
       "<Figure size 720x432 with 1 Axes>"
      ]
     },
     "metadata": {
      "needs_background": "light"
     },
     "output_type": "display_data"
    }
   ],
   "source": [
    "# ANSWER\n",
    "\n",
    "test_data_w = test_data[test_data[\"labels\"] == 'wannacry']\n",
    "test_data_s = test_data[test_data[\"labels\"] == 'startsurf']\n",
    "test_data_r = test_data[test_data[\"labels\"] == 'razy' ]\n",
    "\n",
    "test_data_w.x.mean = test_data_w['x'].mean()\n",
    "test_data_w.y.mean = test_data_w['y'].mean()\n",
    "test_data_s.x.mean = test_data_s['x'].mean()\n",
    "test_data_s.y.mean = test_data_s['y'].mean()\n",
    "test_data_r.x.mean = test_data_r['x'].mean()\n",
    "test_data_r.y.mean = test_data_r['y'].mean()\n",
    "\n",
    "\n",
    "group1 = []\n",
    "group2 = []\n",
    "group3 = []\n",
    "    \n",
    "def find_groups():\n",
    "    group1 = []\n",
    "    group2 = []\n",
    "    group3 = []\n",
    "    \n",
    "    \n",
    "    for i in range(len(test_data)):\n",
    "        distance1 = np.sqrt(np.abs(test_data.iloc[i, 0] - test_data_w.x.mean) ** 2 + np.abs(test_data.iloc[i, 1] - test_data_w.y.mean) ** 2)\n",
    "        distance2 = np.sqrt(np.abs(test_data.iloc[i, 0] - test_data_s.x.mean) ** 2 + np.abs(test_data.iloc[i, 1] - test_data_s.y.mean) ** 2)\n",
    "        distance3 = np.sqrt(np.abs(test_data.iloc[i, 0] - test_data_r.x.mean) ** 2 + np.abs(test_data.iloc[i, 1] - test_data_r.y.mean) ** 2)\n",
    "        distances = [distance1, distance2, distance3]\n",
    "        \n",
    "        \n",
    "        #print (distances)\n",
    "        if np.argmin(distances) == 0:\n",
    "            group1.append([test_data.iloc[i, 0], test_data.iloc[i, 1]])\n",
    "        elif np.argmin(distances) == 1:\n",
    "            group2.append([test_data.iloc[i, 0], test_data.iloc[i, 1]])\n",
    "        elif np.argmin(distances) == 2:\n",
    "            group3.append([test_data.iloc[i, 0], test_data.iloc[i, 1]])\n",
    "            \n",
    "    group1 = np.array(group1)\n",
    "    group2 = np.array(group2)\n",
    "    group3 = np.array(group3)\n",
    "    return group1, group2, group3\n",
    "            \n",
    "group1, group2, group3 = find_groups()\n",
    "\n",
    "\n",
    "\n",
    "#print (\"group 1:\", group1)\n",
    "#print (\"group 2:\", group2)\n",
    "#print (\"group 3:\", group3)\n",
    "plt.figure(figsize=(10,6))\n",
    "plt.scatter(group1[:,0], group1[:,1], c='r', label='wannacry')\n",
    "plt.scatter(group2[:,0], group2[:,1], c='g', label='startsurf')\n",
    "plt.scatter(group3[:,0], group3[:,1], c='b', label='razy')\n",
    "\n",
    "plt.scatter(test_data_w.x.mean, test_data_w.y.mean, s=300, marker = '*', color='purple', label='wannacry centroid')\n",
    "plt.scatter(test_data_s.x.mean, test_data_s.y.mean, s=300, marker = '*', color='black', label='startsurf centroid')\n",
    "plt.scatter(test_data_r.x.mean, test_data_r.y.mean, s=300, marker = '*', color='orange', label='razy centroid')\n",
    "\n",
    "plt.legend()"
   ]
  },
  {
   "cell_type": "markdown",
   "metadata": {},
   "source": [
    "### Task 4: Provide a final accuracy score for the performance of your \"by hand\" classifier (2)"
   ]
  },
  {
   "cell_type": "code",
   "execution_count": 9,
   "metadata": {},
   "outputs": [
    {
     "name": "stdout",
     "output_type": "stream",
     "text": [
      "The accuracy score is: 63\n"
     ]
    }
   ],
   "source": [
    "# ANSWER\n",
    "score = 0\n",
    "label = ['wannacry','startsurf','razy']\n",
    "\n",
    "for i in range(len(test_data)):\n",
    "    distance1 = np.sqrt(np.abs(test_data.iloc[i, 0] - test_data_w.x.mean) ** 2 + np.abs(test_data.iloc[i, 1] - test_data_w.y.mean) ** 2)\n",
    "    distance2 = np.sqrt(np.abs(test_data.iloc[i, 0] - test_data_s.x.mean) ** 2 + np.abs(test_data.iloc[i, 1] - test_data_s.y.mean) ** 2)\n",
    "    distance3 = np.sqrt(np.abs(test_data.iloc[i, 0] - test_data_r.x.mean) ** 2 + np.abs(test_data.iloc[i, 1] - test_data_r.y.mean) ** 2)\n",
    "    distances = [distance1, distance2, distance3]\n",
    "    smallest_index = np.argmin(distances)\n",
    "    #print(smallest_index)\n",
    "    #print(distances)\n",
    "    #print(test_data.at[i,'labels'])\n",
    "    \n",
    "    if label[smallest_index]==test_data.at[i,'labels']:\n",
    "        score = score+1\n",
    "\n",
    "\n",
    "print(\"The accuracy score is:\", score)"
   ]
  },
  {
   "cell_type": "markdown",
   "metadata": {},
   "source": [
    "## Part 2: Developing a large-scale ML classifier\n",
    "\n",
    "We will now extend the earlier principles for the full dataset. Essentially the task is the same, we want to find the parameters that allow us to clearly separate groups for classification."
   ]
  },
  {
   "cell_type": "markdown",
   "metadata": {
    "tags": []
   },
   "source": [
    "### Task 5: Scale the Input Features for further processing using the StandardScaler function (1)"
   ]
  },
  {
   "cell_type": "code",
   "execution_count": 10,
   "metadata": {},
   "outputs": [
    {
     "name": "stdout",
     "output_type": "stream",
     "text": [
      "[[-0.0978198   0.67215876  0.82663021 ...  0.1357412   0.17814439\n",
      "   0.40617301]\n",
      " [-0.35508456 -0.29156716 -0.27456922 ... -0.16889972 -0.21809863\n",
      "  -0.2386657 ]\n",
      " [-0.35178418  0.37984379  0.24155808 ...  0.21077877  0.19202385\n",
      "  -0.23072864]\n",
      " ...\n",
      " [-0.35058059 -0.37961299 -0.38237754 ... -0.31013839 -0.34541401\n",
      "  -0.26045037]\n",
      " [-0.34595246  0.01402847 -0.18442612 ... -0.37112451 -0.38225198\n",
      "  -0.24646054]\n",
      " [-0.37642742 -0.42802765 -0.47665936 ... -0.37851238 -0.39247895\n",
      "  -0.27324031]]\n"
     ]
    }
   ],
   "source": [
    "# ANSWER\n",
    "from sklearn.preprocessing import StandardScaler\n",
    "\n",
    "scaler = StandardScaler()\n",
    "\n",
    "scaled_input = scaler.fit_transform(features)\n",
    "print(scaled_input)"
   ]
  },
  {
   "cell_type": "markdown",
   "metadata": {},
   "source": [
    "### Task 6: Obtain numerical labels for each class using the LabelEncoder function (1)"
   ]
  },
  {
   "cell_type": "code",
   "execution_count": 11,
   "metadata": {},
   "outputs": [
    {
     "name": "stdout",
     "output_type": "stream",
     "text": [
      "[ 7  7  7 ... 13 13 13]\n"
     ]
    },
    {
     "name": "stderr",
     "output_type": "stream",
     "text": [
      "/home/uwe/.local/lib/python3.8/site-packages/sklearn/preprocessing/_label.py:116: DataConversionWarning: A column-vector y was passed when a 1d array was expected. Please change the shape of y to (n_samples, ), for example using ravel().\n",
      "  y = column_or_1d(y, warn=True)\n"
     ]
    }
   ],
   "source": [
    "# ANSWER\n",
    "from sklearn.preprocessing import LabelEncoder\n",
    "le = LabelEncoder()\n",
    "le_labels = labels\n",
    "L_labels = le.fit_transform(le_labels)\n",
    "print(L_labels)"
   ]
  },
  {
   "cell_type": "markdown",
   "metadata": {},
   "source": [
    "### (Advanced) Task 7: Prepare the dataset for ML testing, using the Train-Test-Split function of sklearn (2)"
   ]
  },
  {
   "cell_type": "code",
   "execution_count": 12,
   "metadata": {},
   "outputs": [
    {
     "name": "stdout",
     "output_type": "stream",
     "text": [
      "(21000, 256)\n"
     ]
    }
   ],
   "source": [
    "# ANSWER\n",
    "from sklearn.model_selection import train_test_split\n",
    "X_train, X_test, y_train, y_test = train_test_split(scaled_input, L_labels)\n",
    "print(X_train.shape)"
   ]
  },
  {
   "cell_type": "markdown",
   "metadata": {},
   "source": [
    "### (Advanced) Task 8: Use a Multi-Layer Perceptron (MLP) classifier to train a machine learning model, and obtain the accuracy score against your test data. (4)"
   ]
  },
  {
   "cell_type": "code",
   "execution_count": 13,
   "metadata": {
    "scrolled": false
   },
   "outputs": [
    {
     "name": "stdout",
     "output_type": "stream",
     "text": [
      "The accuracy score is: 80.33%\n"
     ]
    },
    {
     "name": "stderr",
     "output_type": "stream",
     "text": [
      "/home/uwe/.local/lib/python3.8/site-packages/sklearn/neural_network/_multilayer_perceptron.py:679: ConvergenceWarning: Stochastic Optimizer: Maximum iterations (200) reached and the optimization hasn't converged yet.\n",
      "  warnings.warn(\n"
     ]
    }
   ],
   "source": [
    "# ANSWER\n",
    "from sklearn.neural_network import MLPClassifier\n",
    "from sklearn.datasets import make_classification\n",
    "from sklearn.model_selection import train_test_split\n",
    "from sklearn.metrics import accuracy_score\n",
    "\n",
    "mlp = MLPClassifier()\n",
    "clf_model = mlp.fit(X_train, y_train)\n",
    "y_predict = clf_model.predict(X_test)\n",
    "acc_score = accuracy_score(y_test, y_predict)\n",
    "print(\"The accuracy score is:\",\"{:.2%}\".format(acc_score))"
   ]
  },
  {
   "cell_type": "markdown",
   "metadata": {},
   "source": [
    "### (Advanced) Task 9: Use a Random Forest (RF) classifier to train a machine learning model, and obtain the accuracy score against your test data. (4)"
   ]
  },
  {
   "cell_type": "code",
   "execution_count": 14,
   "metadata": {
    "scrolled": true
   },
   "outputs": [
    {
     "name": "stdout",
     "output_type": "stream",
     "text": [
      "The accuracy score is: 87.91%\n"
     ]
    }
   ],
   "source": [
    "# ANSWER\n",
    "from sklearn.ensemble import RandomForestClassifier\n",
    "\n",
    "# Create an instance of the RandomForestClassifier class\n",
    "rf = RandomForestClassifier()\n",
    "\n",
    "# Train the model on the training data\n",
    "rf.fit(X_train, y_train)\n",
    "\n",
    "# Evaluate the model on the testing data\n",
    "accuracy = rf.score(X_test, y_test)\n",
    "\n",
    "print(\"The accuracy score is:\",\"{:.2%}\".format(accuracy))"
   ]
  },
  {
   "cell_type": "markdown",
   "metadata": {},
   "source": [
    "### (Advanced) Task 10: Show how ML parameters can improve the models to achieve a high accuracy score of over 80%\n",
    "\n",
    "*Marks wil be awarded for how your tuning improves accuracy beyond 80%.*"
   ]
  },
  {
   "cell_type": "code",
   "execution_count": 33,
   "metadata": {},
   "outputs": [
    {
     "name": "stdout",
     "output_type": "stream",
     "text": [
      "The accuracy score for RandomForestClassifier is: 52.03%\n"
     ]
    }
   ],
   "source": [
    "#Set the parameter of n_estimators to [1,2,3], and max_depth = [2,3,4]\n",
    "#Accuracy at the beginning is below 50% \n",
    "\n",
    "from sklearn.model_selection import GridSearchCV\n",
    "from sklearn import svm, datasets\n",
    "from sklearn.ensemble import RandomForestClassifier\n",
    "import numpy as np\n",
    "import pandas as pd\n",
    "\n",
    "# Number of trees in random forest\n",
    "n_estimators = [1,2,3]\n",
    "\n",
    "# Maximum number of levels in tree\n",
    "max_depth = [2,3,4]\n",
    "\n",
    "\n",
    "\n",
    "param_grid = {'n_estimators': n_estimators,\n",
    "              'max_depth': max_depth              \n",
    "             }\n",
    "\n",
    "rf = RandomForestClassifier(n_estimators = n_estimators,max_depth = max_depth)\n",
    "\n",
    "rf_grid = GridSearchCV(estimator = rf, \n",
    "                       param_grid = param_grid, \n",
    "                       cv = 5, \n",
    "                       )\n",
    "\n",
    "rf_grid.fit(X_train,y_train)\n",
    "\n",
    "#predict = rf_grid.predict(X_test)\n",
    "\n",
    "acc_score = rf_grid.score(X_test, y_test)\n",
    "\n",
    "acc_score = \"{:.2%}\".format(acc_score)\n",
    "\n",
    "print(\"The accuracy score for RandomForestClassifier is:\",acc_score)\n"
   ]
  },
  {
   "cell_type": "code",
   "execution_count": 34,
   "metadata": {
    "scrolled": false
   },
   "outputs": [
    {
     "name": "stdout",
     "output_type": "stream",
     "text": [
      "The accuracy score for RandomForestClassifier is: 82.54%\n"
     ]
    }
   ],
   "source": [
    "# ANSWER\n",
    "\n",
    "#Try to increase the value inside the parameters, and the accuracy score is now over 80%\n",
    "\n",
    "# Import the GridSearchCV class\n",
    "\n",
    "\n",
    "# Number of trees in random forest\n",
    "n_estimators = [2,4,8]\n",
    "\n",
    "# Maximum number of levels in tree\n",
    "max_depth = [5,10,12]\n",
    "\n",
    "\n",
    "\n",
    "param_grid = {'n_estimators': n_estimators,\n",
    "              'max_depth': max_depth              \n",
    "             }\n",
    "\n",
    "rf = RandomForestClassifier(n_estimators = n_estimators,max_depth = max_depth)\n",
    "\n",
    "rf_grid = GridSearchCV(estimator = rf, \n",
    "                       param_grid = param_grid, \n",
    "                       cv = 5, \n",
    "                       )\n",
    "\n",
    "rf_grid.fit(X_train,y_train)\n",
    "\n",
    "#predict = rf_grid.predict(X_test)\n",
    "\n",
    "acc_score = rf_grid.score(X_test, y_test)\n",
    "\n",
    "acc_score = \"{:.2%}\".format(acc_score)\n",
    "\n",
    "print(\"The accuracy score for RandomForestClassifier is:\",acc_score)\n"
   ]
  },
  {
   "cell_type": "code",
   "execution_count": 30,
   "metadata": {},
   "outputs": [
    {
     "name": "stdout",
     "output_type": "stream",
     "text": [
      "Best parameter: {'alpha': 0.01, 'hidden_layer_sizes': (6,), 'max_iter': 30}\n",
      "The Best score: 57.94%\n"
     ]
    },
    {
     "name": "stderr",
     "output_type": "stream",
     "text": [
      "/home/uwe/.local/lib/python3.8/site-packages/sklearn/neural_network/_multilayer_perceptron.py:679: ConvergenceWarning: Stochastic Optimizer: Maximum iterations (30) reached and the optimization hasn't converged yet.\n",
      "  warnings.warn(\n"
     ]
    }
   ],
   "source": [
    "#Set the values of the Parameter in MLP classifier smaller at the beginning\n",
    "mlp = MLPClassifier()\n",
    "parameter_space = {\n",
    "    'hidden_layer_sizes': [(2,), (4,), (6,)],\n",
    "    'alpha': [0.01, 0.1, 1],\n",
    "    'max_iter': [10, 20, 30]\n",
    "    \n",
    "}\n",
    "\n",
    "mlp_grid = GridSearchCV(mlp, parameter_space, n_jobs=-1, cv=3)\n",
    "\n",
    "mlp_grid.fit(X_train,y_train)\n",
    "\n",
    "\n",
    "best_score = mlp_grid.best_score_\n",
    "\n",
    "print(\"Best parameter:\", mlp_grid.best_params_)\n",
    "print(\"The Best score:\", \"{:.2%}\".format(mlp_grid.best_score_))"
   ]
  },
  {
   "cell_type": "code",
   "execution_count": 31,
   "metadata": {
    "scrolled": true
   },
   "outputs": [
    {
     "name": "stdout",
     "output_type": "stream",
     "text": [
      "Best parameter: {'alpha': 0.01, 'hidden_layer_sizes': (100,), 'max_iter': 500}\n",
      "The Best score: 80.15%\n"
     ]
    },
    {
     "name": "stderr",
     "output_type": "stream",
     "text": [
      "/home/uwe/.local/lib/python3.8/site-packages/sklearn/neural_network/_multilayer_perceptron.py:679: ConvergenceWarning: Stochastic Optimizer: Maximum iterations (10) reached and the optimization hasn't converged yet.\n",
      "  warnings.warn(\n",
      "/home/uwe/.local/lib/python3.8/site-packages/sklearn/neural_network/_multilayer_perceptron.py:679: ConvergenceWarning: Stochastic Optimizer: Maximum iterations (20) reached and the optimization hasn't converged yet.\n",
      "  warnings.warn(\n",
      "/home/uwe/.local/lib/python3.8/site-packages/sklearn/neural_network/_multilayer_perceptron.py:679: ConvergenceWarning: Stochastic Optimizer: Maximum iterations (30) reached and the optimization hasn't converged yet.\n",
      "  warnings.warn(\n",
      "/home/uwe/.local/lib/python3.8/site-packages/sklearn/neural_network/_multilayer_perceptron.py:679: ConvergenceWarning: Stochastic Optimizer: Maximum iterations (30) reached and the optimization hasn't converged yet.\n",
      "  warnings.warn(\n",
      "/home/uwe/.local/lib/python3.8/site-packages/sklearn/neural_network/_multilayer_perceptron.py:679: ConvergenceWarning: Stochastic Optimizer: Maximum iterations (10) reached and the optimization hasn't converged yet.\n",
      "  warnings.warn(\n",
      "/home/uwe/.local/lib/python3.8/site-packages/sklearn/neural_network/_multilayer_perceptron.py:679: ConvergenceWarning: Stochastic Optimizer: Maximum iterations (20) reached and the optimization hasn't converged yet.\n",
      "  warnings.warn(\n",
      "/home/uwe/.local/lib/python3.8/site-packages/sklearn/neural_network/_multilayer_perceptron.py:679: ConvergenceWarning: Stochastic Optimizer: Maximum iterations (30) reached and the optimization hasn't converged yet.\n",
      "  warnings.warn(\n",
      "/home/uwe/.local/lib/python3.8/site-packages/sklearn/neural_network/_multilayer_perceptron.py:679: ConvergenceWarning: Stochastic Optimizer: Maximum iterations (30) reached and the optimization hasn't converged yet.\n",
      "  warnings.warn(\n",
      "/home/uwe/.local/lib/python3.8/site-packages/sklearn/neural_network/_multilayer_perceptron.py:679: ConvergenceWarning: Stochastic Optimizer: Maximum iterations (10) reached and the optimization hasn't converged yet.\n",
      "  warnings.warn(\n",
      "/home/uwe/.local/lib/python3.8/site-packages/sklearn/neural_network/_multilayer_perceptron.py:679: ConvergenceWarning: Stochastic Optimizer: Maximum iterations (20) reached and the optimization hasn't converged yet.\n",
      "  warnings.warn(\n",
      "/home/uwe/.local/lib/python3.8/site-packages/sklearn/neural_network/_multilayer_perceptron.py:679: ConvergenceWarning: Stochastic Optimizer: Maximum iterations (30) reached and the optimization hasn't converged yet.\n",
      "  warnings.warn(\n",
      "/home/uwe/.local/lib/python3.8/site-packages/sklearn/neural_network/_multilayer_perceptron.py:679: ConvergenceWarning: Stochastic Optimizer: Maximum iterations (30) reached and the optimization hasn't converged yet.\n",
      "  warnings.warn(\n",
      "/home/uwe/.local/lib/python3.8/site-packages/sklearn/neural_network/_multilayer_perceptron.py:679: ConvergenceWarning: Stochastic Optimizer: Maximum iterations (10) reached and the optimization hasn't converged yet.\n",
      "  warnings.warn(\n",
      "/home/uwe/.local/lib/python3.8/site-packages/sklearn/neural_network/_multilayer_perceptron.py:679: ConvergenceWarning: Stochastic Optimizer: Maximum iterations (30) reached and the optimization hasn't converged yet.\n",
      "  warnings.warn(\n",
      "/home/uwe/.local/lib/python3.8/site-packages/sklearn/neural_network/_multilayer_perceptron.py:679: ConvergenceWarning: Stochastic Optimizer: Maximum iterations (10) reached and the optimization hasn't converged yet.\n",
      "  warnings.warn(\n",
      "/home/uwe/.local/lib/python3.8/site-packages/sklearn/neural_network/_multilayer_perceptron.py:679: ConvergenceWarning: Stochastic Optimizer: Maximum iterations (20) reached and the optimization hasn't converged yet.\n",
      "  warnings.warn(\n",
      "/home/uwe/.local/lib/python3.8/site-packages/sklearn/neural_network/_multilayer_perceptron.py:679: ConvergenceWarning: Stochastic Optimizer: Maximum iterations (30) reached and the optimization hasn't converged yet.\n",
      "  warnings.warn(\n",
      "/home/uwe/.local/lib/python3.8/site-packages/sklearn/neural_network/_multilayer_perceptron.py:679: ConvergenceWarning: Stochastic Optimizer: Maximum iterations (30) reached and the optimization hasn't converged yet.\n",
      "  warnings.warn(\n",
      "/home/uwe/.local/lib/python3.8/site-packages/sklearn/neural_network/_multilayer_perceptron.py:679: ConvergenceWarning: Stochastic Optimizer: Maximum iterations (300) reached and the optimization hasn't converged yet.\n",
      "  warnings.warn(\n",
      "/home/uwe/.local/lib/python3.8/site-packages/sklearn/neural_network/_multilayer_perceptron.py:679: ConvergenceWarning: Stochastic Optimizer: Maximum iterations (300) reached and the optimization hasn't converged yet.\n",
      "  warnings.warn(\n",
      "/home/uwe/.local/lib/python3.8/site-packages/sklearn/neural_network/_multilayer_perceptron.py:679: ConvergenceWarning: Stochastic Optimizer: Maximum iterations (10) reached and the optimization hasn't converged yet.\n",
      "  warnings.warn(\n",
      "/home/uwe/.local/lib/python3.8/site-packages/sklearn/neural_network/_multilayer_perceptron.py:679: ConvergenceWarning: Stochastic Optimizer: Maximum iterations (20) reached and the optimization hasn't converged yet.\n",
      "  warnings.warn(\n",
      "/home/uwe/.local/lib/python3.8/site-packages/sklearn/neural_network/_multilayer_perceptron.py:679: ConvergenceWarning: Stochastic Optimizer: Maximum iterations (10) reached and the optimization hasn't converged yet.\n",
      "  warnings.warn(\n",
      "/home/uwe/.local/lib/python3.8/site-packages/sklearn/neural_network/_multilayer_perceptron.py:679: ConvergenceWarning: Stochastic Optimizer: Maximum iterations (10) reached and the optimization hasn't converged yet.\n",
      "  warnings.warn(\n",
      "/home/uwe/.local/lib/python3.8/site-packages/sklearn/neural_network/_multilayer_perceptron.py:679: ConvergenceWarning: Stochastic Optimizer: Maximum iterations (20) reached and the optimization hasn't converged yet.\n",
      "  warnings.warn(\n",
      "/home/uwe/.local/lib/python3.8/site-packages/sklearn/neural_network/_multilayer_perceptron.py:679: ConvergenceWarning: Stochastic Optimizer: Maximum iterations (10) reached and the optimization hasn't converged yet.\n",
      "  warnings.warn(\n",
      "/home/uwe/.local/lib/python3.8/site-packages/sklearn/neural_network/_multilayer_perceptron.py:679: ConvergenceWarning: Stochastic Optimizer: Maximum iterations (10) reached and the optimization hasn't converged yet.\n",
      "  warnings.warn(\n",
      "/home/uwe/.local/lib/python3.8/site-packages/sklearn/neural_network/_multilayer_perceptron.py:679: ConvergenceWarning: Stochastic Optimizer: Maximum iterations (20) reached and the optimization hasn't converged yet.\n",
      "  warnings.warn(\n",
      "/home/uwe/.local/lib/python3.8/site-packages/sklearn/neural_network/_multilayer_perceptron.py:679: ConvergenceWarning: Stochastic Optimizer: Maximum iterations (30) reached and the optimization hasn't converged yet.\n",
      "  warnings.warn(\n",
      "/home/uwe/.local/lib/python3.8/site-packages/sklearn/neural_network/_multilayer_perceptron.py:679: ConvergenceWarning: Stochastic Optimizer: Maximum iterations (20) reached and the optimization hasn't converged yet.\n",
      "  warnings.warn(\n",
      "/home/uwe/.local/lib/python3.8/site-packages/sklearn/neural_network/_multilayer_perceptron.py:679: ConvergenceWarning: Stochastic Optimizer: Maximum iterations (10) reached and the optimization hasn't converged yet.\n",
      "  warnings.warn(\n",
      "/home/uwe/.local/lib/python3.8/site-packages/sklearn/neural_network/_multilayer_perceptron.py:679: ConvergenceWarning: Stochastic Optimizer: Maximum iterations (10) reached and the optimization hasn't converged yet.\n",
      "  warnings.warn(\n",
      "/home/uwe/.local/lib/python3.8/site-packages/sklearn/neural_network/_multilayer_perceptron.py:679: ConvergenceWarning: Stochastic Optimizer: Maximum iterations (20) reached and the optimization hasn't converged yet.\n",
      "  warnings.warn(\n",
      "/home/uwe/.local/lib/python3.8/site-packages/sklearn/neural_network/_multilayer_perceptron.py:679: ConvergenceWarning: Stochastic Optimizer: Maximum iterations (30) reached and the optimization hasn't converged yet.\n",
      "  warnings.warn(\n",
      "/home/uwe/.local/lib/python3.8/site-packages/sklearn/neural_network/_multilayer_perceptron.py:679: ConvergenceWarning: Stochastic Optimizer: Maximum iterations (20) reached and the optimization hasn't converged yet.\n",
      "  warnings.warn(\n",
      "/home/uwe/.local/lib/python3.8/site-packages/sklearn/neural_network/_multilayer_perceptron.py:679: ConvergenceWarning: Stochastic Optimizer: Maximum iterations (30) reached and the optimization hasn't converged yet.\n",
      "  warnings.warn(\n",
      "/home/uwe/.local/lib/python3.8/site-packages/sklearn/neural_network/_multilayer_perceptron.py:679: ConvergenceWarning: Stochastic Optimizer: Maximum iterations (20) reached and the optimization hasn't converged yet.\n",
      "  warnings.warn(\n",
      "/home/uwe/.local/lib/python3.8/site-packages/sklearn/neural_network/_multilayer_perceptron.py:679: ConvergenceWarning: Stochastic Optimizer: Maximum iterations (10) reached and the optimization hasn't converged yet.\n",
      "  warnings.warn(\n",
      "/home/uwe/.local/lib/python3.8/site-packages/sklearn/neural_network/_multilayer_perceptron.py:679: ConvergenceWarning: Stochastic Optimizer: Maximum iterations (10) reached and the optimization hasn't converged yet.\n",
      "  warnings.warn(\n",
      "/home/uwe/.local/lib/python3.8/site-packages/sklearn/neural_network/_multilayer_perceptron.py:679: ConvergenceWarning: Stochastic Optimizer: Maximum iterations (20) reached and the optimization hasn't converged yet.\n",
      "  warnings.warn(\n",
      "/home/uwe/.local/lib/python3.8/site-packages/sklearn/neural_network/_multilayer_perceptron.py:679: ConvergenceWarning: Stochastic Optimizer: Maximum iterations (30) reached and the optimization hasn't converged yet.\n",
      "  warnings.warn(\n",
      "/home/uwe/.local/lib/python3.8/site-packages/sklearn/neural_network/_multilayer_perceptron.py:679: ConvergenceWarning: Stochastic Optimizer: Maximum iterations (20) reached and the optimization hasn't converged yet.\n",
      "  warnings.warn(\n",
      "/home/uwe/.local/lib/python3.8/site-packages/sklearn/neural_network/_multilayer_perceptron.py:679: ConvergenceWarning: Stochastic Optimizer: Maximum iterations (300) reached and the optimization hasn't converged yet.\n",
      "  warnings.warn(\n"
     ]
    },
    {
     "name": "stderr",
     "output_type": "stream",
     "text": [
      "/home/uwe/.local/lib/python3.8/site-packages/sklearn/neural_network/_multilayer_perceptron.py:679: ConvergenceWarning: Stochastic Optimizer: Maximum iterations (10) reached and the optimization hasn't converged yet.\n",
      "  warnings.warn(\n",
      "/home/uwe/.local/lib/python3.8/site-packages/sklearn/neural_network/_multilayer_perceptron.py:679: ConvergenceWarning: Stochastic Optimizer: Maximum iterations (30) reached and the optimization hasn't converged yet.\n",
      "  warnings.warn(\n",
      "/home/uwe/.local/lib/python3.8/site-packages/sklearn/neural_network/_multilayer_perceptron.py:679: ConvergenceWarning: Stochastic Optimizer: Maximum iterations (10) reached and the optimization hasn't converged yet.\n",
      "  warnings.warn(\n",
      "/home/uwe/.local/lib/python3.8/site-packages/sklearn/neural_network/_multilayer_perceptron.py:679: ConvergenceWarning: Stochastic Optimizer: Maximum iterations (20) reached and the optimization hasn't converged yet.\n",
      "  warnings.warn(\n",
      "/home/uwe/.local/lib/python3.8/site-packages/sklearn/neural_network/_multilayer_perceptron.py:679: ConvergenceWarning: Stochastic Optimizer: Maximum iterations (30) reached and the optimization hasn't converged yet.\n",
      "  warnings.warn(\n",
      "/home/uwe/.local/lib/python3.8/site-packages/sklearn/neural_network/_multilayer_perceptron.py:679: ConvergenceWarning: Stochastic Optimizer: Maximum iterations (30) reached and the optimization hasn't converged yet.\n",
      "  warnings.warn(\n",
      "/home/uwe/.local/lib/python3.8/site-packages/sklearn/neural_network/_multilayer_perceptron.py:679: ConvergenceWarning: Stochastic Optimizer: Maximum iterations (10) reached and the optimization hasn't converged yet.\n",
      "  warnings.warn(\n",
      "/home/uwe/.local/lib/python3.8/site-packages/sklearn/neural_network/_multilayer_perceptron.py:679: ConvergenceWarning: Stochastic Optimizer: Maximum iterations (20) reached and the optimization hasn't converged yet.\n",
      "  warnings.warn(\n",
      "/home/uwe/.local/lib/python3.8/site-packages/sklearn/neural_network/_multilayer_perceptron.py:679: ConvergenceWarning: Stochastic Optimizer: Maximum iterations (30) reached and the optimization hasn't converged yet.\n",
      "  warnings.warn(\n",
      "/home/uwe/.local/lib/python3.8/site-packages/sklearn/neural_network/_multilayer_perceptron.py:679: ConvergenceWarning: Stochastic Optimizer: Maximum iterations (20) reached and the optimization hasn't converged yet.\n",
      "  warnings.warn(\n",
      "/home/uwe/.local/lib/python3.8/site-packages/sklearn/neural_network/_multilayer_perceptron.py:679: ConvergenceWarning: Stochastic Optimizer: Maximum iterations (10) reached and the optimization hasn't converged yet.\n",
      "  warnings.warn(\n",
      "/home/uwe/.local/lib/python3.8/site-packages/sklearn/neural_network/_multilayer_perceptron.py:679: ConvergenceWarning: Stochastic Optimizer: Maximum iterations (10) reached and the optimization hasn't converged yet.\n",
      "  warnings.warn(\n",
      "/home/uwe/.local/lib/python3.8/site-packages/sklearn/neural_network/_multilayer_perceptron.py:679: ConvergenceWarning: Stochastic Optimizer: Maximum iterations (20) reached and the optimization hasn't converged yet.\n",
      "  warnings.warn(\n",
      "/home/uwe/.local/lib/python3.8/site-packages/sklearn/neural_network/_multilayer_perceptron.py:679: ConvergenceWarning: Stochastic Optimizer: Maximum iterations (10) reached and the optimization hasn't converged yet.\n",
      "  warnings.warn(\n",
      "/home/uwe/.local/lib/python3.8/site-packages/sklearn/neural_network/_multilayer_perceptron.py:679: ConvergenceWarning: Stochastic Optimizer: Maximum iterations (10) reached and the optimization hasn't converged yet.\n",
      "  warnings.warn(\n",
      "/home/uwe/.local/lib/python3.8/site-packages/sklearn/neural_network/_multilayer_perceptron.py:679: ConvergenceWarning: Stochastic Optimizer: Maximum iterations (20) reached and the optimization hasn't converged yet.\n",
      "  warnings.warn(\n",
      "/home/uwe/.local/lib/python3.8/site-packages/sklearn/neural_network/_multilayer_perceptron.py:679: ConvergenceWarning: Stochastic Optimizer: Maximum iterations (30) reached and the optimization hasn't converged yet.\n",
      "  warnings.warn(\n",
      "/home/uwe/.local/lib/python3.8/site-packages/sklearn/neural_network/_multilayer_perceptron.py:679: ConvergenceWarning: Stochastic Optimizer: Maximum iterations (20) reached and the optimization hasn't converged yet.\n",
      "  warnings.warn(\n",
      "/home/uwe/.local/lib/python3.8/site-packages/sklearn/neural_network/_multilayer_perceptron.py:679: ConvergenceWarning: Stochastic Optimizer: Maximum iterations (10) reached and the optimization hasn't converged yet.\n",
      "  warnings.warn(\n",
      "/home/uwe/.local/lib/python3.8/site-packages/sklearn/neural_network/_multilayer_perceptron.py:679: ConvergenceWarning: Stochastic Optimizer: Maximum iterations (10) reached and the optimization hasn't converged yet.\n",
      "  warnings.warn(\n",
      "/home/uwe/.local/lib/python3.8/site-packages/sklearn/neural_network/_multilayer_perceptron.py:679: ConvergenceWarning: Stochastic Optimizer: Maximum iterations (20) reached and the optimization hasn't converged yet.\n",
      "  warnings.warn(\n",
      "/home/uwe/.local/lib/python3.8/site-packages/sklearn/neural_network/_multilayer_perceptron.py:679: ConvergenceWarning: Stochastic Optimizer: Maximum iterations (30) reached and the optimization hasn't converged yet.\n",
      "  warnings.warn(\n",
      "/home/uwe/.local/lib/python3.8/site-packages/sklearn/neural_network/_multilayer_perceptron.py:679: ConvergenceWarning: Stochastic Optimizer: Maximum iterations (300) reached and the optimization hasn't converged yet.\n",
      "  warnings.warn(\n",
      "/home/uwe/.local/lib/python3.8/site-packages/sklearn/neural_network/_multilayer_perceptron.py:679: ConvergenceWarning: Stochastic Optimizer: Maximum iterations (300) reached and the optimization hasn't converged yet.\n",
      "  warnings.warn(\n",
      "/home/uwe/.local/lib/python3.8/site-packages/sklearn/neural_network/_multilayer_perceptron.py:679: ConvergenceWarning: Stochastic Optimizer: Maximum iterations (300) reached and the optimization hasn't converged yet.\n",
      "  warnings.warn(\n",
      "/home/uwe/.local/lib/python3.8/site-packages/sklearn/neural_network/_multilayer_perceptron.py:679: ConvergenceWarning: Stochastic Optimizer: Maximum iterations (20) reached and the optimization hasn't converged yet.\n",
      "  warnings.warn(\n",
      "/home/uwe/.local/lib/python3.8/site-packages/sklearn/neural_network/_multilayer_perceptron.py:679: ConvergenceWarning: Stochastic Optimizer: Maximum iterations (30) reached and the optimization hasn't converged yet.\n",
      "  warnings.warn(\n",
      "/home/uwe/.local/lib/python3.8/site-packages/sklearn/neural_network/_multilayer_perceptron.py:679: ConvergenceWarning: Stochastic Optimizer: Maximum iterations (20) reached and the optimization hasn't converged yet.\n",
      "  warnings.warn(\n",
      "/home/uwe/.local/lib/python3.8/site-packages/sklearn/neural_network/_multilayer_perceptron.py:679: ConvergenceWarning: Stochastic Optimizer: Maximum iterations (30) reached and the optimization hasn't converged yet.\n",
      "  warnings.warn(\n",
      "/home/uwe/.local/lib/python3.8/site-packages/sklearn/neural_network/_multilayer_perceptron.py:679: ConvergenceWarning: Stochastic Optimizer: Maximum iterations (20) reached and the optimization hasn't converged yet.\n",
      "  warnings.warn(\n",
      "/home/uwe/.local/lib/python3.8/site-packages/sklearn/neural_network/_multilayer_perceptron.py:679: ConvergenceWarning: Stochastic Optimizer: Maximum iterations (10) reached and the optimization hasn't converged yet.\n",
      "  warnings.warn(\n",
      "/home/uwe/.local/lib/python3.8/site-packages/sklearn/neural_network/_multilayer_perceptron.py:679: ConvergenceWarning: Stochastic Optimizer: Maximum iterations (10) reached and the optimization hasn't converged yet.\n",
      "  warnings.warn(\n",
      "/home/uwe/.local/lib/python3.8/site-packages/sklearn/neural_network/_multilayer_perceptron.py:679: ConvergenceWarning: Stochastic Optimizer: Maximum iterations (20) reached and the optimization hasn't converged yet.\n",
      "  warnings.warn(\n",
      "/home/uwe/.local/lib/python3.8/site-packages/sklearn/neural_network/_multilayer_perceptron.py:679: ConvergenceWarning: Stochastic Optimizer: Maximum iterations (30) reached and the optimization hasn't converged yet.\n",
      "  warnings.warn(\n",
      "/home/uwe/.local/lib/python3.8/site-packages/sklearn/neural_network/_multilayer_perceptron.py:679: ConvergenceWarning: Stochastic Optimizer: Maximum iterations (30) reached and the optimization hasn't converged yet.\n",
      "  warnings.warn(\n",
      "/home/uwe/.local/lib/python3.8/site-packages/sklearn/neural_network/_multilayer_perceptron.py:679: ConvergenceWarning: Stochastic Optimizer: Maximum iterations (10) reached and the optimization hasn't converged yet.\n",
      "  warnings.warn(\n",
      "/home/uwe/.local/lib/python3.8/site-packages/sklearn/neural_network/_multilayer_perceptron.py:679: ConvergenceWarning: Stochastic Optimizer: Maximum iterations (20) reached and the optimization hasn't converged yet.\n",
      "  warnings.warn(\n",
      "/home/uwe/.local/lib/python3.8/site-packages/sklearn/neural_network/_multilayer_perceptron.py:679: ConvergenceWarning: Stochastic Optimizer: Maximum iterations (30) reached and the optimization hasn't converged yet.\n",
      "  warnings.warn(\n",
      "/home/uwe/.local/lib/python3.8/site-packages/sklearn/neural_network/_multilayer_perceptron.py:679: ConvergenceWarning: Stochastic Optimizer: Maximum iterations (20) reached and the optimization hasn't converged yet.\n",
      "  warnings.warn(\n",
      "/home/uwe/.local/lib/python3.8/site-packages/sklearn/neural_network/_multilayer_perceptron.py:679: ConvergenceWarning: Stochastic Optimizer: Maximum iterations (30) reached and the optimization hasn't converged yet.\n",
      "  warnings.warn(\n",
      "/home/uwe/.local/lib/python3.8/site-packages/sklearn/neural_network/_multilayer_perceptron.py:679: ConvergenceWarning: Stochastic Optimizer: Maximum iterations (30) reached and the optimization hasn't converged yet.\n",
      "  warnings.warn(\n",
      "/home/uwe/.local/lib/python3.8/site-packages/sklearn/neural_network/_multilayer_perceptron.py:679: ConvergenceWarning: Stochastic Optimizer: Maximum iterations (10) reached and the optimization hasn't converged yet.\n",
      "  warnings.warn(\n",
      "/home/uwe/.local/lib/python3.8/site-packages/sklearn/neural_network/_multilayer_perceptron.py:679: ConvergenceWarning: Stochastic Optimizer: Maximum iterations (20) reached and the optimization hasn't converged yet.\n",
      "  warnings.warn(\n",
      "/home/uwe/.local/lib/python3.8/site-packages/sklearn/neural_network/_multilayer_perceptron.py:679: ConvergenceWarning: Stochastic Optimizer: Maximum iterations (30) reached and the optimization hasn't converged yet.\n",
      "  warnings.warn(\n"
     ]
    }
   ],
   "source": [
    "#Increase the value of the parameter to increase the accuracy score up to 80%\n",
    "\n",
    "parameter_space = {\n",
    "    'hidden_layer_sizes': [(10,), (50,), (100,)],\n",
    "    'alpha': [0.01, 0.1, 1],\n",
    "    'max_iter': [300, 500, 750]\n",
    "    \n",
    "}\n",
    "mlp = MLPClassifier(max_iter=1000)\n",
    "\n",
    "mlp_grid = GridSearchCV(mlp, parameter_space, n_jobs=-1, cv=3,scoring='accuracy',return_train_score=True)\n",
    "\n",
    "mlp_grid.fit(X_train,y_train)\n",
    "\n",
    "best_score = mlp_grid.best_score_\n",
    "\n",
    "print(\"Best parameter:\", mlp_grid.best_params_)\n",
    "print(\"The Best score:\", \"{:.2%}\".format(mlp_grid.best_score_))\n",
    "\n",
    "\n",
    "\n"
   ]
  },
  {
   "cell_type": "code",
   "execution_count": null,
   "metadata": {},
   "outputs": [],
   "source": []
  }
 ],
 "metadata": {
  "kernelspec": {
   "display_name": "Python 3 (ipykernel)",
   "language": "python",
   "name": "python3"
  },
  "language_info": {
   "codemirror_mode": {
    "name": "ipython",
    "version": 3
   },
   "file_extension": ".py",
   "mimetype": "text/x-python",
   "name": "python",
   "nbconvert_exporter": "python",
   "pygments_lexer": "ipython3",
   "version": "3.8.10"
  },
  "widgets": {
   "state": {},
   "version": "1.1.2"
  }
 },
 "nbformat": 4,
 "nbformat_minor": 4
}
